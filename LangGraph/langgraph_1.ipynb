{
 "cells": [
  {
   "cell_type": "markdown",
   "id": "549bf224",
   "metadata": {},
   "source": [
    "LangGraph Basic Chatbot Tutorial:\n",
    "\n",
    "Building Your First LangGraph Application\n",
    "Welcome to this hands-on tutorial where you'll build a basic chatbot using LangGraph! This tutorial is based on the official LangGraph documentation and is designed to give you a solid foundation in LangGraph concepts.\n",
    "\n",
    "🎯 Learning Objectives\n",
    "By the end of this tutorial, you will:\n",
    "\n",
    "✅ Understand what LangGraph is and why it's useful\n",
    "\n",
    "✅ Know how to create and structure a StateGraph\n",
    "\n",
    "✅ Learn about nodes, edges, and state management\n",
    "\n",
    "✅ Build a functional chatbot from scratch\n",
    "\n",
    "✅ Understand the basic LangGraph workflow\n",
    "\n",
    "📋 What We'll Build\n",
    "We'll create a simple chatbot that:\n",
    "\n",
    "Maintains conversation state\n",
    "Responds to user messages using an LLM\n",
    "Demonstrates core LangGraph concepts\n",
    "Forms the foundation for more advanced features\n",
    "Let's get started! 🚀\n",
    "\n",
    "Prerequisites\n",
    "Before we start, make sure you have:\n",
    "\n",
    "Python 3.8+ installed on your system\n",
    "\n",
    "Access to an LLM provider that supports tool-calling features:\n",
    "\n",
    "OpenAI (GPT-4, GPT-3.5-turbo)\n",
    "Anthropic (Claude)\n",
    "Google Gemini\n",
    "Azure OpenAI\n",
    "AWS Bedrock\n",
    "API credentials for your chosen LLM provider\n",
    "\n",
    "Basic Python knowledge - understanding of functions, dictionaries, and classes\n",
    "\n",
    "💡 Tip: We recommend starting with OpenAI or Anthropic as they have excellent tool-calling capabilities and extensive documentation."
   ]
  },
  {
   "cell_type": "code",
   "execution_count": 1,
   "id": "d24d2e4f",
   "metadata": {},
   "outputs": [
    {
     "name": "stdout",
     "output_type": "stream",
     "text": [
      "Found existing installation: langgraph 0.5.4\n",
      "Uninstalling langgraph-0.5.4:\n",
      "  Successfully uninstalled langgraph-0.5.4\n",
      "Found existing installation: langchain 0.3.27\n",
      "Uninstalling langchain-0.3.27:\n",
      "  Successfully uninstalled langchain-0.3.27\n",
      "Found existing installation: langchain-core 0.3.74\n",
      "Uninstalling langchain-core-0.3.74:\n",
      "  Successfully uninstalled langchain-core-0.3.74\n",
      "Found existing installation: langsmith 0.4.14\n",
      "Uninstalling langsmith-0.4.14:\n",
      "  Successfully uninstalled langsmith-0.4.14\n",
      "Note: you may need to restart the kernel to use updated packages.\n"
     ]
    }
   ],
   "source": [
    "%pip uninstall -y langgraph langchain langchain-core langsmith\n"
   ]
  },
  {
   "cell_type": "code",
   "execution_count": 2,
   "id": "ffb289a3",
   "metadata": {},
   "outputs": [
    {
     "name": "stdout",
     "output_type": "stream",
     "text": [
      "Collecting langgraph==0.5.4\n",
      "  Using cached langgraph-0.5.4-py3-none-any.whl.metadata (6.8 kB)\n",
      "Collecting langchain-core>=0.1 (from langgraph==0.5.4)\n",
      "  Using cached langchain_core-0.3.74-py3-none-any.whl.metadata (5.8 kB)\n",
      "Requirement already satisfied: langgraph-checkpoint<3.0.0,>=2.1.0 in /home/manmath/miniconda3/envs/ai_agents/lib/python3.11/site-packages (from langgraph==0.5.4) (2.1.0)\n",
      "Requirement already satisfied: langgraph-prebuilt<0.6.0,>=0.5.0 in /home/manmath/miniconda3/envs/ai_agents/lib/python3.11/site-packages (from langgraph==0.5.4) (0.5.2)\n",
      "Requirement already satisfied: langgraph-sdk<0.2.0,>=0.1.42 in /home/manmath/miniconda3/envs/ai_agents/lib/python3.11/site-packages (from langgraph==0.5.4) (0.1.72)\n",
      "Requirement already satisfied: pydantic>=2.7.4 in /home/manmath/miniconda3/envs/ai_agents/lib/python3.11/site-packages (from langgraph==0.5.4) (2.11.7)\n",
      "Requirement already satisfied: xxhash>=3.5.0 in /home/manmath/miniconda3/envs/ai_agents/lib/python3.11/site-packages (from langgraph==0.5.4) (3.5.0)\n",
      "Requirement already satisfied: ormsgpack>=1.10.0 in /home/manmath/miniconda3/envs/ai_agents/lib/python3.11/site-packages (from langgraph-checkpoint<3.0.0,>=2.1.0->langgraph==0.5.4) (1.10.0)\n",
      "Requirement already satisfied: httpx>=0.25.2 in /home/manmath/miniconda3/envs/ai_agents/lib/python3.11/site-packages (from langgraph-sdk<0.2.0,>=0.1.42->langgraph==0.5.4) (0.28.1)\n",
      "Requirement already satisfied: orjson>=3.10.1 in /home/manmath/miniconda3/envs/ai_agents/lib/python3.11/site-packages (from langgraph-sdk<0.2.0,>=0.1.42->langgraph==0.5.4) (3.10.18)\n",
      "Requirement already satisfied: anyio in /home/manmath/miniconda3/envs/ai_agents/lib/python3.11/site-packages (from httpx>=0.25.2->langgraph-sdk<0.2.0,>=0.1.42->langgraph==0.5.4) (4.9.0)\n",
      "Requirement already satisfied: certifi in /home/manmath/miniconda3/envs/ai_agents/lib/python3.11/site-packages (from httpx>=0.25.2->langgraph-sdk<0.2.0,>=0.1.42->langgraph==0.5.4) (2025.6.15)\n",
      "Requirement already satisfied: httpcore==1.* in /home/manmath/miniconda3/envs/ai_agents/lib/python3.11/site-packages (from httpx>=0.25.2->langgraph-sdk<0.2.0,>=0.1.42->langgraph==0.5.4) (1.0.9)\n",
      "Requirement already satisfied: idna in /home/manmath/miniconda3/envs/ai_agents/lib/python3.11/site-packages (from httpx>=0.25.2->langgraph-sdk<0.2.0,>=0.1.42->langgraph==0.5.4) (3.10)\n",
      "Requirement already satisfied: h11>=0.16 in /home/manmath/miniconda3/envs/ai_agents/lib/python3.11/site-packages (from httpcore==1.*->httpx>=0.25.2->langgraph-sdk<0.2.0,>=0.1.42->langgraph==0.5.4) (0.16.0)\n",
      "Collecting langsmith>=0.3.45 (from langchain-core>=0.1->langgraph==0.5.4)\n",
      "  Using cached langsmith-0.4.14-py3-none-any.whl.metadata (14 kB)\n",
      "Requirement already satisfied: tenacity!=8.4.0,<10.0.0,>=8.1.0 in /home/manmath/miniconda3/envs/ai_agents/lib/python3.11/site-packages (from langchain-core>=0.1->langgraph==0.5.4) (8.5.0)\n",
      "Requirement already satisfied: jsonpatch<2.0,>=1.33 in /home/manmath/miniconda3/envs/ai_agents/lib/python3.11/site-packages (from langchain-core>=0.1->langgraph==0.5.4) (1.33)\n",
      "Requirement already satisfied: PyYAML>=5.3 in /home/manmath/miniconda3/envs/ai_agents/lib/python3.11/site-packages (from langchain-core>=0.1->langgraph==0.5.4) (6.0.2)\n",
      "Requirement already satisfied: typing-extensions>=4.7 in /home/manmath/miniconda3/envs/ai_agents/lib/python3.11/site-packages (from langchain-core>=0.1->langgraph==0.5.4) (4.14.0)\n",
      "Requirement already satisfied: packaging>=23.2 in /home/manmath/miniconda3/envs/ai_agents/lib/python3.11/site-packages (from langchain-core>=0.1->langgraph==0.5.4) (24.2)\n",
      "Requirement already satisfied: jsonpointer>=1.9 in /home/manmath/miniconda3/envs/ai_agents/lib/python3.11/site-packages (from jsonpatch<2.0,>=1.33->langchain-core>=0.1->langgraph==0.5.4) (3.0.0)\n",
      "Requirement already satisfied: requests-toolbelt>=1.0.0 in /home/manmath/miniconda3/envs/ai_agents/lib/python3.11/site-packages (from langsmith>=0.3.45->langchain-core>=0.1->langgraph==0.5.4) (1.0.0)\n",
      "Requirement already satisfied: requests>=2.0.0 in /home/manmath/miniconda3/envs/ai_agents/lib/python3.11/site-packages (from langsmith>=0.3.45->langchain-core>=0.1->langgraph==0.5.4) (2.32.4)\n",
      "Requirement already satisfied: zstandard>=0.23.0 in /home/manmath/miniconda3/envs/ai_agents/lib/python3.11/site-packages (from langsmith>=0.3.45->langchain-core>=0.1->langgraph==0.5.4) (0.23.0)\n",
      "Requirement already satisfied: annotated-types>=0.6.0 in /home/manmath/miniconda3/envs/ai_agents/lib/python3.11/site-packages (from pydantic>=2.7.4->langgraph==0.5.4) (0.7.0)\n",
      "Requirement already satisfied: pydantic-core==2.33.2 in /home/manmath/miniconda3/envs/ai_agents/lib/python3.11/site-packages (from pydantic>=2.7.4->langgraph==0.5.4) (2.33.2)\n",
      "Requirement already satisfied: typing-inspection>=0.4.0 in /home/manmath/miniconda3/envs/ai_agents/lib/python3.11/site-packages (from pydantic>=2.7.4->langgraph==0.5.4) (0.4.1)\n",
      "Requirement already satisfied: charset_normalizer<4,>=2 in /home/manmath/miniconda3/envs/ai_agents/lib/python3.11/site-packages (from requests>=2.0.0->langsmith>=0.3.45->langchain-core>=0.1->langgraph==0.5.4) (3.4.2)\n",
      "Requirement already satisfied: urllib3<3,>=1.21.1 in /home/manmath/miniconda3/envs/ai_agents/lib/python3.11/site-packages (from requests>=2.0.0->langsmith>=0.3.45->langchain-core>=0.1->langgraph==0.5.4) (2.5.0)\n",
      "Requirement already satisfied: sniffio>=1.1 in /home/manmath/miniconda3/envs/ai_agents/lib/python3.11/site-packages (from anyio->httpx>=0.25.2->langgraph-sdk<0.2.0,>=0.1.42->langgraph==0.5.4) (1.3.1)\n",
      "Using cached langgraph-0.5.4-py3-none-any.whl (143 kB)\n",
      "Using cached langchain_core-0.3.74-py3-none-any.whl (443 kB)\n",
      "Using cached langsmith-0.4.14-py3-none-any.whl (373 kB)\n",
      "Installing collected packages: langsmith, langchain-core, langgraph\n",
      "\u001b[2K   \u001b[90m━━━━━━━━━━━━━━━━━━━━━━━━━━━━━━━━━━━━━━━━\u001b[0m \u001b[32m3/3\u001b[0m [langgraph]/3\u001b[0m [langgraph]core]\n",
      "\u001b[1A\u001b[2KSuccessfully installed langchain-core-0.3.74 langgraph-0.5.4 langsmith-0.4.14\n",
      "Note: you may need to restart the kernel to use updated packages.\n",
      "Requirement already satisfied: langchain-core in /home/manmath/miniconda3/envs/ai_agents/lib/python3.11/site-packages (0.3.74)\n",
      "Requirement already satisfied: langsmith>=0.3.45 in /home/manmath/miniconda3/envs/ai_agents/lib/python3.11/site-packages (from langchain-core) (0.4.14)\n",
      "Requirement already satisfied: tenacity!=8.4.0,<10.0.0,>=8.1.0 in /home/manmath/miniconda3/envs/ai_agents/lib/python3.11/site-packages (from langchain-core) (8.5.0)\n",
      "Requirement already satisfied: jsonpatch<2.0,>=1.33 in /home/manmath/miniconda3/envs/ai_agents/lib/python3.11/site-packages (from langchain-core) (1.33)\n",
      "Requirement already satisfied: PyYAML>=5.3 in /home/manmath/miniconda3/envs/ai_agents/lib/python3.11/site-packages (from langchain-core) (6.0.2)\n",
      "Requirement already satisfied: typing-extensions>=4.7 in /home/manmath/miniconda3/envs/ai_agents/lib/python3.11/site-packages (from langchain-core) (4.14.0)\n",
      "Requirement already satisfied: packaging>=23.2 in /home/manmath/miniconda3/envs/ai_agents/lib/python3.11/site-packages (from langchain-core) (24.2)\n",
      "Requirement already satisfied: pydantic>=2.7.4 in /home/manmath/miniconda3/envs/ai_agents/lib/python3.11/site-packages (from langchain-core) (2.11.7)\n",
      "Requirement already satisfied: jsonpointer>=1.9 in /home/manmath/miniconda3/envs/ai_agents/lib/python3.11/site-packages (from jsonpatch<2.0,>=1.33->langchain-core) (3.0.0)\n",
      "Requirement already satisfied: httpx<1,>=0.23.0 in /home/manmath/miniconda3/envs/ai_agents/lib/python3.11/site-packages (from langsmith>=0.3.45->langchain-core) (0.28.1)\n",
      "Requirement already satisfied: orjson>=3.9.14 in /home/manmath/miniconda3/envs/ai_agents/lib/python3.11/site-packages (from langsmith>=0.3.45->langchain-core) (3.10.18)\n",
      "Requirement already satisfied: requests-toolbelt>=1.0.0 in /home/manmath/miniconda3/envs/ai_agents/lib/python3.11/site-packages (from langsmith>=0.3.45->langchain-core) (1.0.0)\n",
      "Requirement already satisfied: requests>=2.0.0 in /home/manmath/miniconda3/envs/ai_agents/lib/python3.11/site-packages (from langsmith>=0.3.45->langchain-core) (2.32.4)\n",
      "Requirement already satisfied: zstandard>=0.23.0 in /home/manmath/miniconda3/envs/ai_agents/lib/python3.11/site-packages (from langsmith>=0.3.45->langchain-core) (0.23.0)\n",
      "Requirement already satisfied: anyio in /home/manmath/miniconda3/envs/ai_agents/lib/python3.11/site-packages (from httpx<1,>=0.23.0->langsmith>=0.3.45->langchain-core) (4.9.0)\n",
      "Requirement already satisfied: certifi in /home/manmath/miniconda3/envs/ai_agents/lib/python3.11/site-packages (from httpx<1,>=0.23.0->langsmith>=0.3.45->langchain-core) (2025.6.15)\n",
      "Requirement already satisfied: httpcore==1.* in /home/manmath/miniconda3/envs/ai_agents/lib/python3.11/site-packages (from httpx<1,>=0.23.0->langsmith>=0.3.45->langchain-core) (1.0.9)\n",
      "Requirement already satisfied: idna in /home/manmath/miniconda3/envs/ai_agents/lib/python3.11/site-packages (from httpx<1,>=0.23.0->langsmith>=0.3.45->langchain-core) (3.10)\n",
      "Requirement already satisfied: h11>=0.16 in /home/manmath/miniconda3/envs/ai_agents/lib/python3.11/site-packages (from httpcore==1.*->httpx<1,>=0.23.0->langsmith>=0.3.45->langchain-core) (0.16.0)\n",
      "Requirement already satisfied: annotated-types>=0.6.0 in /home/manmath/miniconda3/envs/ai_agents/lib/python3.11/site-packages (from pydantic>=2.7.4->langchain-core) (0.7.0)\n",
      "Requirement already satisfied: pydantic-core==2.33.2 in /home/manmath/miniconda3/envs/ai_agents/lib/python3.11/site-packages (from pydantic>=2.7.4->langchain-core) (2.33.2)\n",
      "Requirement already satisfied: typing-inspection>=0.4.0 in /home/manmath/miniconda3/envs/ai_agents/lib/python3.11/site-packages (from pydantic>=2.7.4->langchain-core) (0.4.1)\n",
      "Requirement already satisfied: charset_normalizer<4,>=2 in /home/manmath/miniconda3/envs/ai_agents/lib/python3.11/site-packages (from requests>=2.0.0->langsmith>=0.3.45->langchain-core) (3.4.2)\n",
      "Requirement already satisfied: urllib3<3,>=1.21.1 in /home/manmath/miniconda3/envs/ai_agents/lib/python3.11/site-packages (from requests>=2.0.0->langsmith>=0.3.45->langchain-core) (2.5.0)\n",
      "Requirement already satisfied: sniffio>=1.1 in /home/manmath/miniconda3/envs/ai_agents/lib/python3.11/site-packages (from anyio->httpx<1,>=0.23.0->langsmith>=0.3.45->langchain-core) (1.3.1)\n",
      "Note: you may need to restart the kernel to use updated packages.\n"
     ]
    }
   ],
   "source": [
    "%pip install langgraph==0.5.4\n",
    "%pip install langchain-core\n"
   ]
  },
  {
   "cell_type": "code",
   "execution_count": 3,
   "id": "2ab8709a",
   "metadata": {},
   "outputs": [
    {
     "name": "stdout",
     "output_type": "stream",
     "text": [
      "Collecting langchain[openai]\n",
      "  Using cached langchain-0.3.27-py3-none-any.whl.metadata (7.8 kB)\n",
      "Requirement already satisfied: langchain-core<1.0.0,>=0.3.72 in /home/manmath/miniconda3/envs/ai_agents/lib/python3.11/site-packages (from langchain[openai]) (0.3.74)\n",
      "Requirement already satisfied: langchain-text-splitters<1.0.0,>=0.3.9 in /home/manmath/miniconda3/envs/ai_agents/lib/python3.11/site-packages (from langchain[openai]) (0.3.9)\n",
      "Requirement already satisfied: langsmith>=0.1.17 in /home/manmath/miniconda3/envs/ai_agents/lib/python3.11/site-packages (from langchain[openai]) (0.4.14)\n",
      "Requirement already satisfied: pydantic<3.0.0,>=2.7.4 in /home/manmath/miniconda3/envs/ai_agents/lib/python3.11/site-packages (from langchain[openai]) (2.11.7)\n",
      "Requirement already satisfied: SQLAlchemy<3,>=1.4 in /home/manmath/miniconda3/envs/ai_agents/lib/python3.11/site-packages (from langchain[openai]) (2.0.41)\n",
      "Requirement already satisfied: requests<3,>=2 in /home/manmath/miniconda3/envs/ai_agents/lib/python3.11/site-packages (from langchain[openai]) (2.32.4)\n",
      "Requirement already satisfied: PyYAML>=5.3 in /home/manmath/miniconda3/envs/ai_agents/lib/python3.11/site-packages (from langchain[openai]) (6.0.2)\n",
      "Requirement already satisfied: langchain-openai in /home/manmath/miniconda3/envs/ai_agents/lib/python3.11/site-packages (from langchain[openai]) (0.3.27)\n",
      "Requirement already satisfied: tenacity!=8.4.0,<10.0.0,>=8.1.0 in /home/manmath/miniconda3/envs/ai_agents/lib/python3.11/site-packages (from langchain-core<1.0.0,>=0.3.72->langchain[openai]) (8.5.0)\n",
      "Requirement already satisfied: jsonpatch<2.0,>=1.33 in /home/manmath/miniconda3/envs/ai_agents/lib/python3.11/site-packages (from langchain-core<1.0.0,>=0.3.72->langchain[openai]) (1.33)\n",
      "Requirement already satisfied: typing-extensions>=4.7 in /home/manmath/miniconda3/envs/ai_agents/lib/python3.11/site-packages (from langchain-core<1.0.0,>=0.3.72->langchain[openai]) (4.14.0)\n",
      "Requirement already satisfied: packaging>=23.2 in /home/manmath/miniconda3/envs/ai_agents/lib/python3.11/site-packages (from langchain-core<1.0.0,>=0.3.72->langchain[openai]) (24.2)\n",
      "Requirement already satisfied: jsonpointer>=1.9 in /home/manmath/miniconda3/envs/ai_agents/lib/python3.11/site-packages (from jsonpatch<2.0,>=1.33->langchain-core<1.0.0,>=0.3.72->langchain[openai]) (3.0.0)\n",
      "Requirement already satisfied: annotated-types>=0.6.0 in /home/manmath/miniconda3/envs/ai_agents/lib/python3.11/site-packages (from pydantic<3.0.0,>=2.7.4->langchain[openai]) (0.7.0)\n",
      "Requirement already satisfied: pydantic-core==2.33.2 in /home/manmath/miniconda3/envs/ai_agents/lib/python3.11/site-packages (from pydantic<3.0.0,>=2.7.4->langchain[openai]) (2.33.2)\n",
      "Requirement already satisfied: typing-inspection>=0.4.0 in /home/manmath/miniconda3/envs/ai_agents/lib/python3.11/site-packages (from pydantic<3.0.0,>=2.7.4->langchain[openai]) (0.4.1)\n",
      "Requirement already satisfied: charset_normalizer<4,>=2 in /home/manmath/miniconda3/envs/ai_agents/lib/python3.11/site-packages (from requests<3,>=2->langchain[openai]) (3.4.2)\n",
      "Requirement already satisfied: idna<4,>=2.5 in /home/manmath/miniconda3/envs/ai_agents/lib/python3.11/site-packages (from requests<3,>=2->langchain[openai]) (3.10)\n",
      "Requirement already satisfied: urllib3<3,>=1.21.1 in /home/manmath/miniconda3/envs/ai_agents/lib/python3.11/site-packages (from requests<3,>=2->langchain[openai]) (2.5.0)\n",
      "Requirement already satisfied: certifi>=2017.4.17 in /home/manmath/miniconda3/envs/ai_agents/lib/python3.11/site-packages (from requests<3,>=2->langchain[openai]) (2025.6.15)\n",
      "Requirement already satisfied: greenlet>=1 in /home/manmath/miniconda3/envs/ai_agents/lib/python3.11/site-packages (from SQLAlchemy<3,>=1.4->langchain[openai]) (3.2.3)\n",
      "Requirement already satisfied: langchain-anthropic in /home/manmath/miniconda3/envs/ai_agents/lib/python3.11/site-packages (from langchain[anthropic]) (0.3.16)\n",
      "Requirement already satisfied: httpx<1,>=0.23.0 in /home/manmath/miniconda3/envs/ai_agents/lib/python3.11/site-packages (from langsmith>=0.1.17->langchain[openai]) (0.28.1)\n",
      "Requirement already satisfied: orjson>=3.9.14 in /home/manmath/miniconda3/envs/ai_agents/lib/python3.11/site-packages (from langsmith>=0.1.17->langchain[openai]) (3.10.18)\n",
      "Requirement already satisfied: requests-toolbelt>=1.0.0 in /home/manmath/miniconda3/envs/ai_agents/lib/python3.11/site-packages (from langsmith>=0.1.17->langchain[openai]) (1.0.0)\n",
      "Requirement already satisfied: zstandard>=0.23.0 in /home/manmath/miniconda3/envs/ai_agents/lib/python3.11/site-packages (from langsmith>=0.1.17->langchain[openai]) (0.23.0)\n",
      "Requirement already satisfied: anyio in /home/manmath/miniconda3/envs/ai_agents/lib/python3.11/site-packages (from httpx<1,>=0.23.0->langsmith>=0.1.17->langchain[openai]) (4.9.0)\n",
      "Requirement already satisfied: httpcore==1.* in /home/manmath/miniconda3/envs/ai_agents/lib/python3.11/site-packages (from httpx<1,>=0.23.0->langsmith>=0.1.17->langchain[openai]) (1.0.9)\n",
      "Requirement already satisfied: h11>=0.16 in /home/manmath/miniconda3/envs/ai_agents/lib/python3.11/site-packages (from httpcore==1.*->httpx<1,>=0.23.0->langsmith>=0.1.17->langchain[openai]) (0.16.0)\n",
      "Requirement already satisfied: sniffio>=1.1 in /home/manmath/miniconda3/envs/ai_agents/lib/python3.11/site-packages (from anyio->httpx<1,>=0.23.0->langsmith>=0.1.17->langchain[openai]) (1.3.1)\n",
      "Requirement already satisfied: anthropic<1,>=0.52.0 in /home/manmath/miniconda3/envs/ai_agents/lib/python3.11/site-packages (from langchain-anthropic->langchain[anthropic]) (0.55.0)\n",
      "Requirement already satisfied: distro<2,>=1.7.0 in /home/manmath/miniconda3/envs/ai_agents/lib/python3.11/site-packages (from anthropic<1,>=0.52.0->langchain-anthropic->langchain[anthropic]) (1.9.0)\n",
      "Requirement already satisfied: jiter<1,>=0.4.0 in /home/manmath/miniconda3/envs/ai_agents/lib/python3.11/site-packages (from anthropic<1,>=0.52.0->langchain-anthropic->langchain[anthropic]) (0.10.0)\n",
      "Requirement already satisfied: openai<2.0.0,>=1.86.0 in /home/manmath/miniconda3/envs/ai_agents/lib/python3.11/site-packages (from langchain-openai->langchain[openai]) (1.93.0)\n",
      "Requirement already satisfied: tiktoken<1,>=0.7 in /home/manmath/miniconda3/envs/ai_agents/lib/python3.11/site-packages (from langchain-openai->langchain[openai]) (0.9.0)\n",
      "Requirement already satisfied: tqdm>4 in /home/manmath/miniconda3/envs/ai_agents/lib/python3.11/site-packages (from openai<2.0.0,>=1.86.0->langchain-openai->langchain[openai]) (4.67.1)\n",
      "Requirement already satisfied: regex>=2022.1.18 in /home/manmath/miniconda3/envs/ai_agents/lib/python3.11/site-packages (from tiktoken<1,>=0.7->langchain-openai->langchain[openai]) (2024.11.6)\n",
      "Using cached langchain-0.3.27-py3-none-any.whl (1.0 MB)\n",
      "Installing collected packages: langchain\n",
      "Successfully installed langchain-0.3.27\n",
      "Note: you may need to restart the kernel to use updated packages.\n",
      "Requirement already satisfied: langsmith in /home/manmath/miniconda3/envs/ai_agents/lib/python3.11/site-packages (0.4.14)\n",
      "Requirement already satisfied: httpx<1,>=0.23.0 in /home/manmath/miniconda3/envs/ai_agents/lib/python3.11/site-packages (from langsmith) (0.28.1)\n",
      "Requirement already satisfied: orjson>=3.9.14 in /home/manmath/miniconda3/envs/ai_agents/lib/python3.11/site-packages (from langsmith) (3.10.18)\n",
      "Requirement already satisfied: packaging>=23.2 in /home/manmath/miniconda3/envs/ai_agents/lib/python3.11/site-packages (from langsmith) (24.2)\n",
      "Requirement already satisfied: pydantic<3,>=1 in /home/manmath/miniconda3/envs/ai_agents/lib/python3.11/site-packages (from langsmith) (2.11.7)\n",
      "Requirement already satisfied: requests-toolbelt>=1.0.0 in /home/manmath/miniconda3/envs/ai_agents/lib/python3.11/site-packages (from langsmith) (1.0.0)\n",
      "Requirement already satisfied: requests>=2.0.0 in /home/manmath/miniconda3/envs/ai_agents/lib/python3.11/site-packages (from langsmith) (2.32.4)\n",
      "Requirement already satisfied: zstandard>=0.23.0 in /home/manmath/miniconda3/envs/ai_agents/lib/python3.11/site-packages (from langsmith) (0.23.0)\n",
      "Requirement already satisfied: anyio in /home/manmath/miniconda3/envs/ai_agents/lib/python3.11/site-packages (from httpx<1,>=0.23.0->langsmith) (4.9.0)\n",
      "Requirement already satisfied: certifi in /home/manmath/miniconda3/envs/ai_agents/lib/python3.11/site-packages (from httpx<1,>=0.23.0->langsmith) (2025.6.15)\n",
      "Requirement already satisfied: httpcore==1.* in /home/manmath/miniconda3/envs/ai_agents/lib/python3.11/site-packages (from httpx<1,>=0.23.0->langsmith) (1.0.9)\n",
      "Requirement already satisfied: idna in /home/manmath/miniconda3/envs/ai_agents/lib/python3.11/site-packages (from httpx<1,>=0.23.0->langsmith) (3.10)\n",
      "Requirement already satisfied: h11>=0.16 in /home/manmath/miniconda3/envs/ai_agents/lib/python3.11/site-packages (from httpcore==1.*->httpx<1,>=0.23.0->langsmith) (0.16.0)\n",
      "Requirement already satisfied: annotated-types>=0.6.0 in /home/manmath/miniconda3/envs/ai_agents/lib/python3.11/site-packages (from pydantic<3,>=1->langsmith) (0.7.0)\n",
      "Requirement already satisfied: pydantic-core==2.33.2 in /home/manmath/miniconda3/envs/ai_agents/lib/python3.11/site-packages (from pydantic<3,>=1->langsmith) (2.33.2)\n",
      "Requirement already satisfied: typing-extensions>=4.12.2 in /home/manmath/miniconda3/envs/ai_agents/lib/python3.11/site-packages (from pydantic<3,>=1->langsmith) (4.14.0)\n",
      "Requirement already satisfied: typing-inspection>=0.4.0 in /home/manmath/miniconda3/envs/ai_agents/lib/python3.11/site-packages (from pydantic<3,>=1->langsmith) (0.4.1)\n",
      "Requirement already satisfied: charset_normalizer<4,>=2 in /home/manmath/miniconda3/envs/ai_agents/lib/python3.11/site-packages (from requests>=2.0.0->langsmith) (3.4.2)\n",
      "Requirement already satisfied: urllib3<3,>=1.21.1 in /home/manmath/miniconda3/envs/ai_agents/lib/python3.11/site-packages (from requests>=2.0.0->langsmith) (2.5.0)\n",
      "Requirement already satisfied: sniffio>=1.1 in /home/manmath/miniconda3/envs/ai_agents/lib/python3.11/site-packages (from anyio->httpx<1,>=0.23.0->langsmith) (1.3.1)\n",
      "Note: you may need to restart the kernel to use updated packages.\n"
     ]
    }
   ],
   "source": [
    "%pip install \"langchain[openai]\" \"langchain[anthropic]\"\n",
    "%pip install langsmith"
   ]
  },
  {
   "cell_type": "markdown",
   "id": "9fab92ee",
   "metadata": {},
   "source": [
    "### 📚 About LangSmith\n",
    "LangSmith is LangChain's observability platform that helps you:\n",
    "\n",
    "1)Debug your LangGraph applications\n",
    "\n",
    "2)Monitor performance and costs\n",
    "\n",
    "3)Test and evaluate your AI systems\n",
    "\n",
    "4)Trace execution flows\n",
    "\n",
    "💡 Pro Tip: Sign up for LangSmith to get detailed insights into your LangGraph applications. It's invaluable for development and debugg"
   ]
  },
  {
   "cell_type": "markdown",
   "id": "50e97cb5",
   "metadata": {},
   "source": [
    "### Step 2: Create StateGraph"
   ]
  },
  {
   "cell_type": "code",
   "execution_count": 4,
   "id": "4adacff1",
   "metadata": {},
   "outputs": [],
   "source": [
    "from typing import Annotated\n",
    "from typing_extensions import TypedDict\n",
    "\n",
    "from langgraph.graph import StateGraph, START, END\n",
    "from langgraph.graph.message import add_messages"
   ]
  },
  {
   "cell_type": "code",
   "execution_count": 5,
   "id": "4f9ad238",
   "metadata": {},
   "outputs": [],
   "source": [
    "class State(TypedDict):\n",
    "    messages: Annotated[list, add_messages]"
   ]
  },
  {
   "cell_type": "code",
   "execution_count": 6,
   "id": "a2290a95",
   "metadata": {},
   "outputs": [],
   "source": [
    "graph_builder = StateGraph(State)"
   ]
  },
  {
   "cell_type": "markdown",
   "id": "abb13036",
   "metadata": {},
   "source": [
    "### Step 3 Set up of Language Model"
   ]
  },
  {
   "cell_type": "code",
   "execution_count": 7,
   "id": "8fd155e6",
   "metadata": {},
   "outputs": [],
   "source": [
    "import os\n",
    "from langchain.chat_models import init_chat_model"
   ]
  },
  {
   "cell_type": "code",
   "execution_count": null,
   "id": "e2de591c",
   "metadata": {},
   "outputs": [],
   "source": [
    "os.environ[\"OPENAI_API_KEY\"] = \"\"\n",
    "llm = init_chat_model(\"openai:gpt-4\")"
   ]
  },
  {
   "cell_type": "code",
   "execution_count": 9,
   "id": "bb739d1c",
   "metadata": {},
   "outputs": [
    {
     "data": {
      "text/plain": [
       "AIMessage(content=\"As an artificial intelligence, I don't have feelings, but I'm ready and able to assist you. How can I help you today?\", additional_kwargs={'refusal': None}, response_metadata={'token_usage': {'completion_tokens': 28, 'prompt_tokens': 13, 'total_tokens': 41, 'completion_tokens_details': {'accepted_prediction_tokens': 0, 'audio_tokens': 0, 'reasoning_tokens': 0, 'rejected_prediction_tokens': 0}, 'prompt_tokens_details': {'audio_tokens': 0, 'cached_tokens': 0}}, 'model_name': 'gpt-4-0613', 'system_fingerprint': None, 'id': 'chatcmpl-C4XXlXfGqYJjBqxskhKVrt932rqpn', 'service_tier': 'default', 'finish_reason': 'stop', 'logprobs': None}, id='run--ba8cec12-3431-4b44-84dc-63aeda7159a2-0', usage_metadata={'input_tokens': 13, 'output_tokens': 28, 'total_tokens': 41, 'input_token_details': {'audio': 0, 'cache_read': 0}, 'output_token_details': {'audio': 0, 'reasoning': 0}})"
      ]
     },
     "execution_count": 9,
     "metadata": {},
     "output_type": "execute_result"
    }
   ],
   "source": [
    "llm.invoke(\"Hi, how are you?\")"
   ]
  },
  {
   "cell_type": "markdown",
   "id": "50b64669",
   "metadata": {},
   "source": [
    "### Step 4: Add a Node\n",
    "Now we'll add our first node to the graph. Nodes represent units of work and are typically regular Python functions.\n",
    "\n",
    "🔧 Understanding Nodes\n",
    "\n",
    "Input: Nodes receive the current State\n",
    "\n",
    "Processing: They perform some work (like calling an LLM)\n",
    "\n",
    "Output: They return a dictionary with state updates\n",
    "\n",
    "Pattern: All LangGraph node functions follow this pattern"
   ]
  },
  {
   "cell_type": "code",
   "execution_count": 10,
   "id": "ee91a084",
   "metadata": {},
   "outputs": [],
   "source": [
    "def chatbot(state: State):\n",
    "    response = llm.invoke(state['messages'])\n",
    "    return {\"messages\": [response]}"
   ]
  },
  {
   "cell_type": "code",
   "execution_count": 11,
   "id": "06a4cd41",
   "metadata": {},
   "outputs": [],
   "source": [
    "graph_builder.add_node(\"chatbot_node\", chatbot)\n",
    "graph_builder.add_edge(START, \"chatbot_node\")\n",
    "graph_builder.add_edge(\"chatbot_node\", END)\n",
    "\n",
    "graph = graph_builder.compile()"
   ]
  },
  {
   "cell_type": "code",
   "execution_count": 12,
   "id": "adabfd19",
   "metadata": {},
   "outputs": [
    {
     "name": "stdout",
     "output_type": "stream",
     "text": [
      "📊 Graph Visualization:\n",
      "==============================\n",
      "  +-----------+  \n",
      "  | __start__ |  \n",
      "  +-----------+  \n",
      "        *        \n",
      "        *        \n",
      "        *        \n",
      "+--------------+ \n",
      "| chatbot_node | \n",
      "+--------------+ \n",
      "        *        \n",
      "        *        \n",
      "        *        \n",
      "  +---------+    \n",
      "  | __end__ |    \n",
      "  +---------+    \n",
      "\n",
      "==============================\n"
     ]
    },
    {
     "data": {
      "image/png": "[encoded data removed]",
      "text/plain": [
       "<IPython.core.display.Image object>"
      ]
     },
     "metadata": {},
     "output_type": "display_data"
    },
    {
     "name": "stdout",
     "output_type": "stream",
     "text": [
      "🎨 Professional diagram displayed above!\n",
      "\n",
      "✅ Graph structure visualized!\n",
      "📈 Our simple chatbot has one node connected to START\n"
     ]
    }
   ],
   "source": [
    "# Visualize our graph structure\n",
    "print(\"📊 Graph Visualization:\")\n",
    "print(\"=\" * 30)\n",
    "\n",
    "# ASCII visualization (always works)\n",
    "try:\n",
    "    ascii_viz = graph.get_graph().draw_ascii()\n",
    "    print(ascii_viz)\n",
    "except Exception as e:\n",
    "    print(\"ASCII visualization not available:\", e)\n",
    "    # Fallback simple visualization\n",
    "    print(\"Simple Graph Structure:\")\n",
    "    print(\"┌─────────┐\")\n",
    "    print(\"│  START  │\")\n",
    "    print(\"└────┬────┘\")\n",
    "    print(\"     │\")\n",
    "    print(\"     ▼\")\n",
    "    print(\"┌─────────┐\")\n",
    "    print(\"│ chatbot │\")\n",
    "    print(\"└─────────┘\")\n",
    "\n",
    "print(\"\\n\" + \"=\" * 30)\n",
    "\n",
    "# Try to display a more professional diagram (if dependencies are available)\n",
    "try:\n",
    "    from IPython.display import Image, display\n",
    "    display(Image(graph.get_graph().draw_mermaid_png()))\n",
    "    print(\"🎨 Professional diagram displayed above!\")\n",
    "except Exception as e:\n",
    "    print(\"🎨 Professional visualization not available (this is normal)\")\n",
    "    print(\"💡 To enable: pip install 'langgraph[visualization]'\")\n",
    "\n",
    "print(\"\\n✅ Graph structure visualized!\")\n",
    "print(\"📈 Our simple chatbot has one node connected to START\")"
   ]
  },
  {
   "cell_type": "code",
   "execution_count": 13,
   "id": "17194133",
   "metadata": {},
   "outputs": [
    {
     "name": "stdout",
     "output_type": "stream",
     "text": [
      "🚀 Testing our LangGraph chatbot:\n",
      "==================================================\n"
     ]
    }
   ],
   "source": [
    "def stream_graph_updates(user_input: str):\n",
    "    \"\"\"\n",
    "    Stream updates from our graph execution.\n",
    "    \n",
    "    This function:\n",
    "    1. Creates initial state with user message\n",
    "    2. Streams graph execution results\n",
    "    3. Displays assistant responses\n",
    "    \n",
    "    Args:\n",
    "        user_input: The user's message\n",
    "    \"\"\"\n",
    "    print(f\"\\n👤 User: {user_input}\")\n",
    "    print(\"🔄 Processing...\")\n",
    "    \n",
    "    # Create initial state with user message\n",
    "    initial_state = {\n",
    "        \"messages\": [{\"role\": \"user\", \"content\": user_input}]\n",
    "    }\n",
    "    \n",
    "    # Stream the graph execution\n",
    "    for event in graph.stream(initial_state):\n",
    "        for value in event.values():\n",
    "            # Get the latest message (assistant's response)\n",
    "            if value[\"messages\"]:\n",
    "                latest_message = value[\"messages\"][-1]\n",
    "                print(f\"🤖 Assistant: {latest_message.content}\")\n",
    "\n",
    "# Test our chatbot with some sample interactions\n",
    "print(\"🚀 Testing our LangGraph chatbot:\")\n",
    "print(\"=\" * 50)"
   ]
  },
  {
   "cell_type": "code",
   "execution_count": 14,
   "id": "c1cde790",
   "metadata": {},
   "outputs": [
    {
     "name": "stdout",
     "output_type": "stream",
     "text": [
      "\n",
      "👤 User: Hello\n",
      "🔄 Processing...\n",
      "🤖 Assistant: Hello! How can I assist you today?\n"
     ]
    }
   ],
   "source": [
    "stream_graph_updates(\"Hello\")"
   ]
  },
  {
   "cell_type": "code",
   "execution_count": 15,
   "id": "112fb618",
   "metadata": {},
   "outputs": [
    {
     "name": "stdout",
     "output_type": "stream",
     "text": [
      "\n",
      "👤 User: which number is bigger 10.5 and 10.1\n",
      "🔄 Processing...\n",
      "🤖 Assistant: 10.5 is bigger than 10.1\n"
     ]
    }
   ],
   "source": [
    "stream_graph_updates(\"which number is bigger 10.5 and 10.1\")"
   ]
  },
  {
   "cell_type": "code",
   "execution_count": null,
   "id": "10923bf6",
   "metadata": {},
   "outputs": [],
   "source": [
    "def book_ticket(input1):\n",
    "    return str(input1) + \" Ticket booked successfully!\"\n",
    "def book_hotel(input2):\n",
    "    return str(input2) + \" Hotel booked successfully!\""
   ]
  },
  {
   "cell_type": "code",
   "execution_count": 29,
   "id": "0a26ba77",
   "metadata": {},
   "outputs": [
    {
     "data": {
      "text/plain": [
       "'Hi Ticket booked successfully!'"
      ]
     },
     "execution_count": 29,
     "metadata": {},
     "output_type": "execute_result"
    }
   ],
   "source": [
    "book_ticket(\"Hi\")"
   ]
  },
  {
   "cell_type": "code",
   "execution_count": 30,
   "id": "d7d70c12",
   "metadata": {},
   "outputs": [
    {
     "data": {
      "text/plain": [
       "'Hello Hotel booked successfully!'"
      ]
     },
     "execution_count": 30,
     "metadata": {},
     "output_type": "execute_result"
    }
   ],
   "source": [
    "book_hotel(\"Hello\")"
   ]
  },
  {
   "cell_type": "code",
   "execution_count": 31,
   "id": "f7279dc1",
   "metadata": {},
   "outputs": [],
   "source": [
    "from langgraph.graph import MessageGraph \n",
    "workflow1 = MessageGraph()"
   ]
  },
  {
   "cell_type": "code",
   "execution_count": 32,
   "id": "d3c47d08",
   "metadata": {},
   "outputs": [
    {
     "data": {
      "text/plain": [
       "<langgraph.graph.message.MessageGraph at 0x7fad7794dfd0>"
      ]
     },
     "execution_count": 32,
     "metadata": {},
     "output_type": "execute_result"
    }
   ],
   "source": [
    "workflow1.add_node(\"BookTicket\", book_ticket)\n",
    "workflow1.add_node(\"BookHotel\", book_hotel)\n",
    "workflow1.add_edge(\"BookTicket\", \"BookHotel\")"
   ]
  },
  {
   "cell_type": "code",
   "execution_count": 33,
   "id": "79a092d3",
   "metadata": {},
   "outputs": [],
   "source": [
    "workflow1.add_edge(START, \"BookTicket\")\n",
    "workflow1.add_edge(\"BookHotel\", END)\n",
    "app1 = workflow1.compile()"
   ]
  },
  {
   "cell_type": "code",
   "execution_count": 34,
   "id": "fe97fb84",
   "metadata": {},
   "outputs": [
    {
     "data": {
      "image/png": "[encoded data removed]",
      "text/plain": [
       "<IPython.core.display.Image object>"
      ]
     },
     "metadata": {},
     "output_type": "display_data"
    }
   ],
   "source": [
    "from IPython.display import Image, display\n",
    "\n",
    "try:\n",
    "    display(Image(app1.get_graph().draw_mermaid_png()))\n",
    "except Exception as e:\n",
    "    print(e)"
   ]
  },
  {
   "cell_type": "markdown",
   "id": "b4123535",
   "metadata": {},
   "source": [
    "### AGENT APPLICATION"
   ]
  },
  {
   "cell_type": "code",
   "execution_count": 35,
   "id": "d818bd69",
   "metadata": {},
   "outputs": [
    {
     "data": {
      "text/plain": [
       "[HumanMessage(content='Hi this is Manmath', additional_kwargs={}, response_metadata={}, id='28a7c5c0-46c9-4c84-93d0-8b90fe78d277'),\n",
       " HumanMessage(content=\"[HumanMessage(content='Hi this is Manmath', additional_kwargs={}, response_metadata={}, id='28a7c5c0-46c9-4c84-93d0-8b90fe78d277')] Ticket booked successfully!\", additional_kwargs={}, response_metadata={}, id='0c11d212-44a9-430c-8d90-c548b5b1e6e0'),\n",
       " HumanMessage(content='[HumanMessage(content=\\'Hi this is Manmath\\', additional_kwargs={}, response_metadata={}, id=\\'28a7c5c0-46c9-4c84-93d0-8b90fe78d277\\'), HumanMessage(content=\"[HumanMessage(content=\\'Hi this is Manmath\\', additional_kwargs={}, response_metadata={}, id=\\'28a7c5c0-46c9-4c84-93d0-8b90fe78d277\\')] Ticket booked successfully!\", additional_kwargs={}, response_metadata={}, id=\\'0c11d212-44a9-430c-8d90-c548b5b1e6e0\\')] Hotel booked successfully!', additional_kwargs={}, response_metadata={}, id='988c30cc-fe66-471c-8c81-7353d1887c60')]"
      ]
     },
     "execution_count": 35,
     "metadata": {},
     "output_type": "execute_result"
    }
   ],
   "source": [
    "app1.invoke(\"Hi this is Manmath\")"
   ]
  },
  {
   "cell_type": "code",
   "execution_count": 27,
   "id": "2544a640",
   "metadata": {},
   "outputs": [
    {
     "name": "stdout",
     "output_type": "stream",
     "text": [
      "here is output from BookTicket\n",
      "_______\n",
      "[HumanMessage(content='Hi this is Manmath ', additional_kwargs={}, response_metadata={}, id='655652ba-0754-40a5-bae1-bf3b27b2c667')] Ticket booked successfully!\n",
      "\n",
      "\n",
      "here is output from BookHotel\n",
      "_______\n",
      "[HumanMessage(content='Hi this is Manmath ', additional_kwargs={}, response_metadata={}, id='655652ba-0754-40a5-bae1-bf3b27b2c667'), HumanMessage(content=\"[HumanMessage(content='Hi this is Manmath ', additional_kwargs={}, response_metadata={}, id='655652ba-0754-40a5-bae1-bf3b27b2c667')] Ticket booked successfully!\", additional_kwargs={}, response_metadata={}, id='ba6014cc-cb2e-4354-b326-93fbb46c6c3a')] Hotel booked successfully!\n",
      "\n",
      "\n"
     ]
    }
   ],
   "source": [
    "input = \"Hi this is Manmath \"\n",
    "for output in app1.stream(input):\n",
    "    for key,value in output.items():\n",
    "        print(f\"here is output from {key}\")\n",
    "        print(\"_______\")\n",
    "        print(value)\n",
    "        print(\"\\n\")"
   ]
  }
 ],
 "metadata": {
  "kernelspec": {
   "display_name": "ai_agents",
   "language": "python",
   "name": "python3"
  },
  "language_info": {
   "codemirror_mode": {
    "name": "ipython",
    "version": 3
   },
   "file_extension": ".py",
   "mimetype": "text/x-python",
   "name": "python",
   "nbconvert_exporter": "python",
   "pygments_lexer": "ipython3",
   "version": "3.11.13"
  }
 },
 "nbformat": 4,
 "nbformat_minor": 5
}
