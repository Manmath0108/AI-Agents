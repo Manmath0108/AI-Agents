{
 "cells": [
  {
   "cell_type": "code",
   "execution_count": 16,
   "id": "21939d59",
   "metadata": {},
   "outputs": [
    {
     "name": "stdout",
     "output_type": "stream",
     "text": [
      "All imports successful.\n"
     ]
    }
   ],
   "source": [
    "from exa_py import Exa\n",
    "from phi.agent import Agent\n",
    "from phi.tools.firecrawl import FirecrawlTools\n",
    "from phi.model.openai import OpenAIChat\n",
    "from phi.tools.duckduckgo import DuckDuckGo\n",
    "import pandas as pd\n",
    "\n",
    "print(\"All imports successful.\")"
   ]
  },
  {
   "cell_type": "code",
   "execution_count": null,
   "id": "cc9032c4",
   "metadata": {},
   "outputs": [
    {
     "name": "stdout",
     "output_type": "stream",
     "text": [
      "APIs initialized successfully.\n"
     ]
    }
   ],
   "source": [
    "OPENAI_API_KEY = \"\"\n",
    "EXA_API_KEY = \"\"\n",
    "FIRECRAWL_API_KEY = \"\"\n",
    "\n",
    "exa = Exa(api_key=EXA_API_KEY)\n",
    "print(\"APIs initialized successfully.\")"
   ]
  },
  {
   "cell_type": "code",
   "execution_count": 18,
   "id": "4ca7a518",
   "metadata": {},
   "outputs": [],
   "source": [
    "firecrawl_tools = FirecrawlTools(\n",
    "    api_key = FIRECRAWL_API_KEY,\n",
    "    scrape=False,\n",
    "    crawl=True,\n",
    "    limit=5\n",
    ")\n",
    "firecrawl_agent = Agent(\n",
    "    model=OpenAIChat(id=\"gpt-3.5-turbo\", api_key=OPENAI_API_KEY),\n",
    "    tools=[firecrawl_tools, DuckDuckGo()],\n",
    "    show_tool_calls=True,\n",
    "    markdown=True\n",
    ")"
   ]
  },
  {
   "cell_type": "code",
   "execution_count": 19,
   "id": "503972e9",
   "metadata": {},
   "outputs": [
    {
     "name": "stdout",
     "output_type": "stream",
     "text": [
      "Agents created successfully\n"
     ]
    }
   ],
   "source": [
    "comparison_agent = Agent(\n",
    "    model = OpenAIChat(id=\"gpt-3.5-turbo\", api_key=OPENAI_API_KEY),\n",
    "    show_tools_calls = True,\n",
    "    markdown = True\n",
    ")\n",
    "print(\"Agents created successfully\")"
   ]
  },
  {
   "cell_type": "code",
   "execution_count": 20,
   "id": "0d513b22",
   "metadata": {},
   "outputs": [],
   "source": [
    "def get_competitor_urls(url=None, description=None):\n",
    "    \"\"\" \n",
    "    Find competitor URLs using Exa's serach capabilities\n",
    "\n",
    "    Args:\n",
    "        url: Company Website URL\n",
    "        description: Company description text\n",
    "\n",
    "    Returns:\n",
    "        List of competitor URLs\n",
    "    \"\"\"\n",
    "    if url:\n",
    "        result = exa.find_similar(\n",
    "            url=url,\n",
    "            num_results=5,\n",
    "            exclude_source_domain=True,\n",
    "            category=\"Company\"\n",
    "        )\n",
    "    elif description:\n",
    "        result = exa.search(\n",
    "            description,\n",
    "            type=\"neural\",\n",
    "            category=\"Company\",\n",
    "            use_autoprompt=True,\n",
    "            num_results=5\n",
    "        )\n",
    "    else:\n",
    "        raise ValueError(\"Either 'url' or 'description' must be provided.\") \n",
    "    competitor_urls = [item.url for item in result.results]\n",
    "    return competitor_urls\n",
    "\n"
   ]
  },
  {
   "cell_type": "code",
   "execution_count": 21,
   "id": "3b136abc",
   "metadata": {},
   "outputs": [
    {
     "data": {
      "text/plain": [
       "['https://www.zohocrm.com/',\n",
       " 'https://www.freshworks.com/hrms/features/',\n",
       " 'https://www.hrmsworld.com/zoho-people-hr-software-profile.html',\n",
       " 'https://www.manageengine.com/projects.html',\n",
       " 'https://getabettercrm.com/applications/zoho-one/hr-human-resources/']"
      ]
     },
     "execution_count": 21,
     "metadata": {},
     "output_type": "execute_result"
    }
   ],
   "source": [
    "get_competitor_urls(\n",
    "    url=\"https://www.zoho.com/people/\",\n",
    "    description=\"Zoho People is a cloud-based HR software that helps businesses manage their human resources functions, including employee records, attendance, leave management, and performance reviews.\"\n",
    ")"
   ]
  },
  {
   "cell_type": "code",
   "execution_count": 22,
   "id": "8c75e65f",
   "metadata": {},
   "outputs": [
    {
     "name": "stdout",
     "output_type": "stream",
     "text": [
      "Found Competitors ['https://openai.io/', 'https://open.ai/', 'https://www.openai.co/', 'https://platform.openai.com/;']\n"
     ]
    }
   ],
   "source": [
    "test_url = \"https://openai.com\"\n",
    "test_description = \"OpenAI is an AI research and deployment company that aims to ensure that artificial general intelligence (AGI) benefits all of humanity.\"   \n",
    "competitors = get_competitor_urls(url=test_url, description=test_description)\n",
    "print(f\"Found Competitors {competitors}\")"
   ]
  },
  {
   "cell_type": "code",
   "execution_count": null,
   "id": "28dbdfa9",
   "metadata": {},
   "outputs": [],
   "source": [
    "## Adjus this function to work with the multiple URL\n",
    "\n",
    "def extract_competitor_info(competitor_url: str):\n",
    "    \"\"\"\n",
    "    Extract detailed information from competitor websites\n",
    "    \n",
    "    Args:\n",
    "        competitor_url: URL of competitor website\n",
    "        \n",
    "    Returns:\n",
    "        Dictionary with competitor data\n",
    "    \"\"\"\n",
    "    try:\n",
    "        # Use AI agent to crawl and summarize the website\n",
    "        crawl_response = firecrawl_agent.run(f\"Crawl and summarize {competitor_url}\")\n",
    "        crawled_data = crawl_response.content\n",
    "        \n",
    "        return {\n",
    "            \"competitor\": competitor_url,\n",
    "            \"data\": crawled_data\n",
    "        }\n",
    "    except Exception as e:\n",
    "        print(f\"Error extracting info for {competitor_url}: {e}\")\n",
    "        return {\n",
    "            \"competitor\": competitor_url,\n",
    "            \"error\": str(e)\n",
    "        }\n",
    "\n",
    "# Test the function \n",
    "sample_data = extract_competitor_info(competitors[0])\n",
    "print(\"Sample competitor data extracted!\")\n",
    "print(f\"Data length: {len(str(sample_data))}\")"
   ]
  },
  {
   "cell_type": "code",
   "execution_count": 26,
   "id": "73c36970",
   "metadata": {},
   "outputs": [
    {
     "name": "stdout",
     "output_type": "stream",
     "text": [
      "{'competitor': 'https://openai.io/', 'data': '\\nRunning:\\n - crawl_website(url=https://openai.io/)\\n\\nI have crawled the website \"https://openai.io/\", but it seems that there is no content to summarize. You may want to visit the website directly for information.'}\n"
     ]
    }
   ],
   "source": [
    "print(sample_data)"
   ]
  },
  {
   "cell_type": "code",
   "execution_count": null,
   "id": "7ced5a38",
   "metadata": {},
   "outputs": [],
   "source": []
  }
 ],
 "metadata": {
  "kernelspec": {
   "display_name": "ai_agents",
   "language": "python",
   "name": "python3"
  },
  "language_info": {
   "codemirror_mode": {
    "name": "ipython",
    "version": 3
   },
   "file_extension": ".py",
   "mimetype": "text/x-python",
   "name": "python",
   "nbconvert_exporter": "python",
   "pygments_lexer": "ipython3",
   "version": "3.11.13"
  }
 },
 "nbformat": 4,
 "nbformat_minor": 5
}
